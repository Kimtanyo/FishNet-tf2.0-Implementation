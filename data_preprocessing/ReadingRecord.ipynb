{
 "cells": [
  {
   "cell_type": "code",
   "execution_count": 1,
   "id": "ec66e527",
   "metadata": {},
   "outputs": [],
   "source": [
    "import tensorflow as tf\n",
    "import numpy as np\n",
    "import IPython.display as display"
   ]
  },
  {
   "cell_type": "code",
   "execution_count": null,
   "id": "44b78101",
   "metadata": {},
   "outputs": [],
   "source": []
  },
  {
   "cell_type": "code",
   "execution_count": 2,
   "id": "33dc3fba",
   "metadata": {},
   "outputs": [],
   "source": [
    "# Check first batch\n",
    "record_file0 = \"data/tf_records/train/train-00000-of-00128\""
   ]
  },
  {
   "cell_type": "code",
   "execution_count": 3,
   "id": "bb8efbf5",
   "metadata": {},
   "outputs": [],
   "source": [
    "# Convert to TF Dataset\n",
    "dataset = tf.data.TFRecordDataset(record_file0, buffer_size=100)"
   ]
  },
  {
   "cell_type": "code",
   "execution_count": null,
   "id": "ea52341a",
   "metadata": {},
   "outputs": [],
   "source": []
  },
  {
   "cell_type": "code",
   "execution_count": 4,
   "id": "8fd1b415",
   "metadata": {},
   "outputs": [],
   "source": [
    "# Decoding function\n",
    "def parse_record(record):\n",
    "    name_to_features = {\n",
    "        'image/class/label': tf.io.FixedLenFeature([], tf.int64),\n",
    "        'image/class/synset': tf.io.FixedLenFeature([], tf.string),\n",
    "        'image/encoded': tf.io.FixedLenFeature([], tf.string),\n",
    "    }\n",
    "    return tf.io.parse_single_example(record, name_to_features)"
   ]
  },
  {
   "cell_type": "code",
   "execution_count": null,
   "id": "bf768bc4",
   "metadata": {},
   "outputs": [],
   "source": []
  },
  {
   "cell_type": "code",
   "execution_count": null,
   "id": "7048353b",
   "metadata": {},
   "outputs": [],
   "source": []
  },
  {
   "cell_type": "code",
   "execution_count": 5,
   "id": "a0259521",
   "metadata": {
    "scrolled": false
   },
   "outputs": [
    {
     "data": {
      "image/jpeg": "[encoded data removed]",
      "text/plain": [
       "<IPython.core.display.Image object>"
      ]
     },
     "metadata": {},
     "output_type": "display_data"
    },
    {
     "name": "stdout",
     "output_type": "stream",
     "text": [
      "146 b'n04146614'\n"
     ]
    },
    {
     "data": {
      "image/jpeg": "[encoded data removed]",
      "text/plain": [
       "<IPython.core.display.Image object>"
      ]
     },
     "metadata": {},
     "output_type": "display_data"
    },
    {
     "name": "stdout",
     "output_type": "stream",
     "text": [
      "8 b'n01770393'\n"
     ]
    },
    {
     "data": {
      "image/jpeg": "[encoded data removed]",
      "text/plain": [
       "<IPython.core.display.Image object>"
      ]
     },
     "metadata": {},
     "output_type": "display_data"
    },
    {
     "name": "stdout",
     "output_type": "stream",
     "text": [
      "156 b'n04328186'\n"
     ]
    },
    {
     "data": {
      "image/jpeg": "[encoded data removed]",
      "text/plain": [
       "<IPython.core.display.Image object>"
      ]
     },
     "metadata": {},
     "output_type": "display_data"
    },
    {
     "name": "stdout",
     "output_type": "stream",
     "text": [
      "40 b'n02226429'\n"
     ]
    },
    {
     "data": {
      "image/jpeg": "[encoded data removed]",
      "text/plain": [
       "<IPython.core.display.Image object>"
      ]
     },
     "metadata": {},
     "output_type": "display_data"
    },
    {
     "name": "stdout",
     "output_type": "stream",
     "text": [
      "16 b'n01944390'\n"
     ]
    }
   ],
   "source": [
    "# Take some and manually check if image matches label\n",
    "# You should probably need words.txt\n",
    "\n",
    "for record in dataset.take(5):\n",
    "\n",
    "    parsed = parse_record(record)\n",
    "\n",
    "    image = parsed[\"image/encoded\"].numpy()\n",
    "    label = parsed[\"image/class/label\"].numpy()\n",
    "    synset = parsed[\"image/class/synset\"].numpy()\n",
    "\n",
    "    display.display(display.Image(data=image))\n",
    "    print(label, synset)\n"
   ]
  },
  {
   "cell_type": "code",
   "execution_count": null,
   "id": "6ae4a7cb",
   "metadata": {},
   "outputs": [],
   "source": []
  }
 ],
 "metadata": {
  "kernelspec": {
   "display_name": "Python 3",
   "language": "python",
   "name": "python3"
  },
  "language_info": {
   "codemirror_mode": {
    "name": "ipython",
    "version": 3
   },
   "file_extension": ".py",
   "mimetype": "text/x-python",
   "name": "python",
   "nbconvert_exporter": "python",
   "pygments_lexer": "ipython3",
   "version": "3.9.9"
  }
 },
 "nbformat": 4,
 "nbformat_minor": 5
}
